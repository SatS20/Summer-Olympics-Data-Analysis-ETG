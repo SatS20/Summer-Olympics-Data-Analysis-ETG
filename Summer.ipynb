{
  "nbformat": 4,
  "nbformat_minor": 0,
  "metadata": {
    "colab": {
      "name": "Summer",
      "provenance": [],
      "collapsed_sections": []
    },
    "kernelspec": {
      "name": "python3",
      "display_name": "Python 3"
    },
    "language_info": {
      "name": "python"
    }
  },
  "cells": [
    {
      "cell_type": "markdown",
      "metadata": {
        "id": "0VOyUR22HW4z"
      },
      "source": [
        "# **Summer Olympics Data Analysis Assignment** "
      ]
    },
    {
      "cell_type": "markdown",
      "metadata": {
        "id": "m7Lm7V6mHnb_"
      },
      "source": [
        "### 1. In how many cities Summer Olympics is held so far?"
      ]
    },
    {
      "cell_type": "code",
      "metadata": {
        "id": "a0QHDI-pH2W1",
        "colab": {
          "base_uri": "https://localhost:8080/"
        },
        "outputId": "80986ff3-17a7-4295-f8a8-391231a4c225"
      },
      "source": [
        "import pandas as pd\n",
        "df=pd.read_csv(\"summer.csv.txt\")\n",
        "print(df['City'].unique())\n",
        "print(\"Number of cities :\",len(df['City'].unique()))"
      ],
      "execution_count": 2,
      "outputs": [
        {
          "output_type": "stream",
          "name": "stdout",
          "text": [
            "['Athens' 'Paris' 'St Louis' 'London' 'Stockholm' 'Antwerp' 'Amsterdam'\n",
            " 'Los Angeles' 'Berlin' 'Helsinki' 'Melbourne / Stockholm' 'Rome' 'Tokyo'\n",
            " 'Mexico' 'Munich' 'Montreal' 'Moscow' 'Seoul' 'Barcelona' 'Atlanta'\n",
            " 'Sydney' 'Beijing']\n",
            "Number of cities : 22\n"
          ]
        }
      ]
    },
    {
      "cell_type": "markdown",
      "metadata": {
        "id": "hl1JRXK9IIOh"
      },
      "source": [
        "### 2. Which sport is having most number of Gold Medals so far ?(Top 5)"
      ]
    },
    {
      "cell_type": "code",
      "metadata": {
        "id": "URB3077fIUa8",
        "colab": {
          "base_uri": "https://localhost:8080/",
          "height": 374
        },
        "outputId": "9e7b479c-f2ef-4e78-f8eb-b64da715b59c"
      },
      "source": [
        "data=[]\n",
        "a=df[df['Medal']=='Gold']\n",
        "for sport in a['Sport'].unique():\n",
        "  data.append([sport,len(a[a[\"Sport\"]==sport])])\n",
        "data=pd.DataFrame(data,columns=['Sport','Gold_Medals'])\n",
        "data.sort_values(by='Gold_Medals',ascending=False).head().plot.bar()\n",
        "DATA=data.sort_values(by='Gold_Medals',ascending=False).head()\n",
        "print(DATA)"
      ],
      "execution_count": 3,
      "outputs": [
        {
          "output_type": "stream",
          "name": "stdout",
          "text": [
            "         Sport  Gold_Medals\n",
            "0     Aquatics         1421\n",
            "1    Athletics         1215\n",
            "17      Rowing          890\n",
            "4   Gymnastics          820\n",
            "3      Fencing          552\n"
          ]
        },
        {
          "output_type": "display_data",
          "data": {
            "image/png": "[encoded data removed]",
            "text/plain": [
              "<Figure size 432x288 with 1 Axes>"
            ]
          },
          "metadata": {
            "needs_background": "light"
          }
        }
      ]
    },
    {
      "cell_type": "markdown",
      "metadata": {
        "id": "V_80Obn6IVvg"
      },
      "source": [
        "###3. Which sport is having most number of medals so far ?(Top 5)"
      ]
    },
    {
      "cell_type": "code",
      "metadata": {
        "id": "v5YDxJYZJA8L",
        "colab": {
          "base_uri": "https://localhost:8080/",
          "height": 374
        },
        "outputId": "aee50193-b214-4eed-e06c-61ddc65bb607"
      },
      "source": [
        "Z=[]\n",
        "for sport in df['Sport'].unique():\n",
        "  Z.append([sport,len(df[df['Sport']==sport])])\n",
        "Z=pd.DataFrame(Z,columns=['Sport','Medals'])\n",
        "Z.sort_values(by='Medals',ascending=False).head().plot.bar()\n",
        "Ans=Z.sort_values(by='Medals',ascending=False).head()\n",
        "print(Ans)"
      ],
      "execution_count": 4,
      "outputs": [
        {
          "output_type": "stream",
          "name": "stdout",
          "text": [
            "         Sport  Medals\n",
            "0     Aquatics    4170\n",
            "1    Athletics    3638\n",
            "17      Rowing    2667\n",
            "4   Gymnastics    2307\n",
            "3      Fencing    1613\n"
          ]
        },
        {
          "output_type": "display_data",
          "data": {
            "image/png": "[encoded data removed]",
            "text/plain": [
              "<Figure size 432x288 with 1 Axes>"
            ]
          },
          "metadata": {
            "needs_background": "light"
          }
        }
      ]
    },
    {
      "cell_type": "markdown",
      "metadata": {
        "id": "Nom72YyvJB3x"
      },
      "source": [
        "###4.Which player has won most number of medals? (Top 5)"
      ]
    },
    {
      "cell_type": "code",
      "metadata": {
        "id": "F7RLz-EsJPMb",
        "colab": {
          "base_uri": "https://localhost:8080/",
          "height": 393
        },
        "outputId": "95019076-b3a8-4940-de66-2115a9a139b2"
      },
      "source": [
        "S=[]\n",
        "for player in df['Athlete'].unique():\n",
        "  S.append([player,len(df[df['Athlete']==player])])\n",
        "S=pd.DataFrame(S,columns=['PLAYER','Medals'])\n",
        "S.sort_values(by='Medals',ascending=False).head().plot.bar()\n",
        "Result=S.sort_values(by='Medals',ascending=False).head()\n",
        "print(Result)"
      ],
      "execution_count": 11,
      "outputs": [
        {
          "output_type": "stream",
          "name": "stdout",
          "text": [
            "                     PLAYER  Medals\n",
            "18640       PHELPS, Michael      22\n",
            "7197       LATYNINA, Larisa      18\n",
            "9948     ANDRIANOV, Nikolay      15\n",
            "6591           ONO, Takashi      13\n",
            "5103   MANGIAROTTI, Edoardo      13\n"
          ]
        },
        {
          "output_type": "display_data",
          "data": {
            "image/png": "[encoded data removed]",
            "text/plain": [
              "<Figure size 432x288 with 1 Axes>"
            ]
          },
          "metadata": {
            "needs_background": "light"
          }
        }
      ]
    },
    {
      "cell_type": "markdown",
      "metadata": {
        "id": "O4mCsQs6JUH3"
      },
      "source": [
        "###5.Which player has won most number Gold Medals of medals? (Top 5)"
      ]
    },
    {
      "cell_type": "code",
      "metadata": {
        "id": "lLCBXHBfJnES",
        "colab": {
          "base_uri": "https://localhost:8080/",
          "height": 387
        },
        "outputId": "b86da363-d286-4cbc-84f9-1aede9493bd7"
      },
      "source": [
        "X=[]\n",
        "a=df[df['Medal']=='Gold']\n",
        "for player in a['Athlete'].unique():\n",
        "  X.append([player,len(a[a['Athlete']==player])])\n",
        "X=pd.DataFrame(X,columns=['Athlete','Gold_medals'])\n",
        "X.sort_values(by='Gold_medals',ascending=False).head().plot.bar()\n",
        "RESULT=X.sort_values(by='Gold_medals',ascending=False).head()\n",
        "print(RESULT)"
      ],
      "execution_count": 6,
      "outputs": [
        {
          "output_type": "stream",
          "name": "stdout",
          "text": [
            "               Athlete  Gold_medals\n",
            "6851   PHELPS, Michael           18\n",
            "3320       SPITZ, Mark            9\n",
            "2714  LATYNINA, Larisa            9\n",
            "4630       LEWIS, Carl            9\n",
            "907       NURMI, Paavo            9\n"
          ]
        },
        {
          "output_type": "display_data",
          "data": {
            "image/png": "[encoded data removed]",
            "text/plain": [
              "<Figure size 432x288 with 1 Axes>"
            ]
          },
          "metadata": {
            "needs_background": "light"
          }
        }
      ]
    },
    {
      "cell_type": "markdown",
      "metadata": {
        "id": "UjFnfsV_Jn6n"
      },
      "source": [
        "###6. In which year India won first Gold Medal in Summer Olympics?"
      ]
    },
    {
      "cell_type": "code",
      "metadata": {
        "id": "uY29hXEfJz7X",
        "colab": {
          "base_uri": "https://localhost:8080/"
        },
        "outputId": "01f8bc75-a131-417c-9cae-9980507bc2d0"
      },
      "source": [
        "a=df[df['Medal']=='Gold']\n",
        "India=a[a['Country']=='IND']\n",
        "Result=India.sort_values(by='Year',ascending=True).head(1)\n",
        "print(Result)\n"
      ],
      "execution_count": 65,
      "outputs": [
        {
          "output_type": "stream",
          "name": "stdout",
          "text": [
            "      Year       City   Sport Discipline  ... Country Gender   Event Medal\n",
            "5512  1928  Amsterdam  Hockey     Hockey  ...     IND    Men  Hockey  Gold\n",
            "\n",
            "[1 rows x 9 columns]\n"
          ]
        }
      ]
    },
    {
      "cell_type": "markdown",
      "metadata": {
        "id": "aJCNqBo7J0o6"
      },
      "source": [
        "###7.Which event is most popular in terms on number of players?(Top 5)"
      ]
    },
    {
      "cell_type": "code",
      "metadata": {
        "id": "mWhuQKcSKDsG",
        "colab": {
          "base_uri": "https://localhost:8080/",
          "height": 381
        },
        "outputId": "c16b1623-62a9-4ce0-d8eb-0708657a27fe"
      },
      "source": [
        "Y=[]\n",
        "for event in df['Event'].unique():\n",
        "  Y.append([event,len(df[df['Event']==event])])\n",
        "Y=pd.DataFrame(Y,columns=['Event','Players'])\n",
        "Y.sort_values(by='Players',ascending=False).head().plot.bar()\n",
        "Answer=Y.sort_values(by='Players',ascending=False).head()\n",
        "print(Answer)"
      ],
      "execution_count": 20,
      "outputs": [
        {
          "output_type": "stream",
          "name": "stdout",
          "text": [
            "                Event  Players\n",
            "80           Football     1497\n",
            "176            Hockey     1422\n",
            "138  Team Competition     1147\n",
            "327        Basketball     1012\n",
            "337          Handball      973\n"
          ]
        },
        {
          "output_type": "display_data",
          "data": {
            "image/png": "[encoded data removed]",
            "text/plain": [
              "<Figure size 432x288 with 1 Axes>"
            ]
          },
          "metadata": {
            "needs_background": "light"
          }
        }
      ]
    },
    {
      "cell_type": "markdown",
      "metadata": {
        "id": "0k_kUbdSKEbF"
      },
      "source": [
        "###8.Which sport is having most female Gold Medalists? (Top 5)"
      ]
    },
    {
      "cell_type": "code",
      "metadata": {
        "id": "oq-KcNTkKPL1",
        "colab": {
          "base_uri": "https://localhost:8080/",
          "height": 374
        },
        "outputId": "d36f48f4-2238-4b5c-8d36-4b372b35bd73"
      },
      "source": [
        "L=[]\n",
        "a=df[df['Medal']=='Gold']\n",
        "FEMALE=a[a['Gender']=='Women']\n",
        "for sport in FEMALE['Sport'].unique():\n",
        "  L.append([sport,len(FEMALE[FEMALE['Sport']==sport])])\n",
        "L=pd.DataFrame(L,columns=['Sport','Gold_Medals'])\n",
        "L.sort_values(by='Gold_Medals',ascending=False).head().plot.bar()\n",
        "Result=L.sort_values(by='Gold_Medals',ascending=False).head()\n",
        "print(Result)\n"
      ],
      "execution_count": 5,
      "outputs": [
        {
          "output_type": "stream",
          "name": "stdout",
          "text": [
            "         Sport  Gold_Medals\n",
            "4     Aquatics          589\n",
            "7    Athletics          389\n",
            "8   Gymnastics          268\n",
            "14      Rowing          217\n",
            "11  Volleyball          166\n"
          ]
        },
        {
          "output_type": "display_data",
          "data": {
            "image/png": "[encoded data removed]",
            "text/plain": [
              "<Figure size 432x288 with 1 Axes>"
            ]
          },
          "metadata": {
            "needs_background": "light"
          }
        }
      ]
    }
  ]
}